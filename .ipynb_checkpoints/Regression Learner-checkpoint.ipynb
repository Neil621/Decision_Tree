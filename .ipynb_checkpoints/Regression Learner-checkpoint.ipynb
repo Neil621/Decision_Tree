{
 "cells": [
  {
   "cell_type": "code",
   "execution_count": 2,
   "metadata": {},
   "outputs": [
    {
     "name": "stdout",
     "output_type": "stream",
     "text": [
      "the secret clue is 'zzyzx'\n"
     ]
    }
   ],
   "source": [
    "\"\"\"  \t\t   \t  \t\t\t  \t \t\t  \t\t  \t\t    \t \t\t \t\t   \t\t \t\t  \n",
    "A simple wrapper for linear regression.  (c) 2015 Tucker Balch  \t\t   \t  \t\t\t  \t \t\t  \t\t  \t\t    \t \t\t \t\t   \t\t \t\t  \n",
    "  \t\t   \t  \t\t\t  \t \t\t  \t\t  \t\t    \t \t\t \t\t   \t\t \t\t  \n",
    "Copyright 2018, Georgia Institute of Technology (Georgia Tech)  \t\t   \t  \t\t\t  \t \t\t  \t\t  \t\t    \t \t\t \t\t   \t\t \t\t  \n",
    "Atlanta, Georgia 30332  \t\t   \t  \t\t\t  \t \t\t  \t\t  \t\t    \t \t\t \t\t   \t\t \t\t  \n",
    "All Rights Reserved  \t\t   \t  \t\t\t  \t \t\t  \t\t  \t\t    \t \t\t \t\t   \t\t \t\t  \n",
    "  \t\t   \t  \t\t\t  \t \t\t  \t\t  \t\t    \t \t\t \t\t   \t\t \t\t  \n",
    "Template code for CS 4646/7646  \t\t   \t  \t\t\t  \t \t\t  \t\t  \t\t    \t \t\t \t\t   \t\t \t\t  \n",
    "  \t\t   \t  \t\t\t  \t \t\t  \t\t  \t\t    \t \t\t \t\t   \t\t \t\t  \n",
    "Georgia Tech asserts copyright ownership of this template and all derivative  \t\t   \t  \t\t\t  \t \t\t  \t\t  \t\t    \t \t\t \t\t   \t\t \t\t  \n",
    "works, including solutions to the projects assigned in this course. Students  \t\t   \t  \t\t\t  \t \t\t  \t\t  \t\t    \t \t\t \t\t   \t\t \t\t  \n",
    "and other users of this template code are advised not to share it with others  \t\t   \t  \t\t\t  \t \t\t  \t\t  \t\t    \t \t\t \t\t   \t\t \t\t  \n",
    "or to make it available on publicly viewable websites including repositories  \t\t   \t  \t\t\t  \t \t\t  \t\t  \t\t    \t \t\t \t\t   \t\t \t\t  \n",
    "such as github and gitlab.  This copyright statement should not be removed  \t\t   \t  \t\t\t  \t \t\t  \t\t  \t\t    \t \t\t \t\t   \t\t \t\t  \n",
    "or edited.  \t\t   \t  \t\t\t  \t \t\t  \t\t  \t\t    \t \t\t \t\t   \t\t \t\t  \n",
    "  \t\t   \t  \t\t\t  \t \t\t  \t\t  \t\t    \t \t\t \t\t   \t\t \t\t  \n",
    "We do grant permission to share solutions privately with non-students such  \t\t   \t  \t\t\t  \t \t\t  \t\t  \t\t    \t \t\t \t\t   \t\t \t\t  \n",
    "as potential employers. However, sharing with other current or future  \t\t   \t  \t\t\t  \t \t\t  \t\t  \t\t    \t \t\t \t\t   \t\t \t\t  \n",
    "students of CS 7646 is prohibited and subject to being investigated as a  \t\t   \t  \t\t\t  \t \t\t  \t\t  \t\t    \t \t\t \t\t   \t\t \t\t  \n",
    "GT honor code violation.  \t\t   \t  \t\t\t  \t \t\t  \t\t  \t\t    \t \t\t \t\t   \t\t \t\t  \n",
    "  \t\t   \t  \t\t\t  \t \t\t  \t\t  \t\t    \t \t\t \t\t   \t\t \t\t  \n",
    "-----do not edit anything above this line---  \t\t   \t  \t\t\t  \t \t\t  \t\t  \t\t    \t \t\t \t\t   \t\t \t\t  \n",
    "\"\"\"  \t\t   \t  \t\t\t  \t \t\t  \t\t  \t\t    \t \t\t \t\t   \t\t \t\t  \n",
    "  \t\t   \t  \t\t\t  \t \t\t  \t\t  \t\t    \t \t\t \t\t   \t\t \t\t  \n",
    "import numpy as np  \t\t   \t  \t\t\t  \t \t\t  \t\t  \t\t    \t \t\t \t\t   \t\t \t\t  \n",
    "  \t\t   \t  \t\t\t  \t \t\t  \t\t  \t\t    \t \t\t \t\t   \t\t \t\t  \n",
    "class LinRegLearner(object):  \t\t   \t  \t\t\t  \t \t\t  \t\t  \t\t    \t \t\t \t\t   \t\t \t\t  \n",
    "  \t\t   \t  \t\t\t  \t \t\t  \t\t  \t\t    \t \t\t \t\t   \t\t \t\t  \n",
    "    def __init__(self, verbose = False):  \t\t   \t  \t\t\t  \t \t\t  \t\t  \t\t    \t \t\t \t\t   \t\t \t\t  \n",
    "        pass # move along, these aren't the drones you're looking for  \t\t   \t  \t\t\t  \t \t\t  \t\t  \t\t    \t \t\t \t\t   \t\t \t\t  \n",
    "  \t\t   \t  \t\t\t  \t \t\t  \t\t  \t\t    \t \t\t \t\t   \t\t \t\t  \n",
    "    def author(self):  \t\t   \t  \t\t\t  \t \t\t  \t\t  \t\t    \t \t\t \t\t   \t\t \t\t  \n",
    "        return 'nwatt3' # replace tb34 with your Georgia Tech username  \t\t   \t  \t\t\t  \t \t\t  \t\t  \t\t    \t \t\t \t\t   \t\t \t\t  \n",
    "  \t\t   \t  \t\t\t  \t \t\t  \t\t  \t\t    \t \t\t \t\t   \t\t \t\t  \n",
    "    def addEvidence(self,dataX,dataY):  \t\t   \t  \t\t\t  \t \t\t  \t\t  \t\t    \t \t\t \t\t   \t\t \t\t  \n",
    "        \"\"\"  \t\t   \t  \t\t\t  \t \t\t  \t\t  \t\t    \t \t\t \t\t   \t\t \t\t  \n",
    "        @summary: Add training data to learner  \t\t   \t  \t\t\t  \t \t\t  \t\t  \t\t    \t \t\t \t\t   \t\t \t\t  \n",
    "        @param dataX: X values of data to add  \t\t   \t  \t\t\t  \t \t\t  \t\t  \t\t    \t \t\t \t\t   \t\t \t\t  \n",
    "        @param dataY: the Y training values  \t\t   \t  \t\t\t  \t \t\t  \t\t  \t\t    \t \t\t \t\t   \t\t \t\t  \n",
    "        \"\"\"  \t\t   \t  \t\t\t  \t \t\t  \t\t  \t\t    \t \t\t \t\t   \t\t \t\t  \n",
    "  \t\t   \t  \t\t\t  \t \t\t  \t\t  \t\t    \t \t\t \t\t   \t\t \t\t  \n",
    "        # slap on 1s column so linear regression finds a constant term  \t\t   \t  \t\t\t  \t \t\t  \t\t  \t\t    \t \t\t \t\t   \t\t \t\t  \n",
    "        newdataX = np.ones([dataX.shape[0],dataX.shape[1]+1])  \t\t   \t  \t\t\t  \t \t\t  \t\t  \t\t    \t \t\t \t\t   \t\t \t\t  \n",
    "        newdataX[:,0:dataX.shape[1]]=dataX  \t\t   \t  \t\t\t  \t \t\t  \t\t  \t\t    \t \t\t \t\t   \t\t \t\t  \n",
    "  \t\t   \t  \t\t\t  \t \t\t  \t\t  \t\t    \t \t\t \t\t   \t\t \t\t  \n",
    "        # build and save the model  \t\t   \t  \t\t\t  \t \t\t  \t\t  \t\t    \t \t\t \t\t   \t\t \t\t  \n",
    "        self.model_coefs, residuals, rank, s = np.linalg.lstsq(newdataX, dataY, rcond=None)  \t\t   \t  \t\t\t  \t \t\t  \t\t  \t\t    \t \t\t \t\t   \t\t \t\t  \n",
    "  \t\t   \t  \t\t\t  \t \t\t  \t\t  \t\t    \t \t\t \t\t   \t\t \t\t  \n",
    "    def query(self,points):  \t\t   \t  \t\t\t  \t \t\t  \t\t  \t\t    \t \t\t \t\t   \t\t \t\t  \n",
    "        \"\"\"  \t\t   \t  \t\t\t  \t \t\t  \t\t  \t\t    \t \t\t \t\t   \t\t \t\t  \n",
    "        @summary: Estimate a set of test points given the model we built.  \t\t   \t  \t\t\t  \t \t\t  \t\t  \t\t    \t \t\t \t\t   \t\t \t\t  \n",
    "        @param points: should be a numpy array with each row corresponding to a specific query.  \t\t   \t  \t\t\t  \t \t\t  \t\t  \t\t    \t \t\t \t\t   \t\t \t\t  \n",
    "        @returns the estimated values according to the saved model.  \t\t   \t  \t\t\t  \t \t\t  \t\t  \t\t    \t \t\t \t\t   \t\t \t\t  \n",
    "        \"\"\"  \t\t   \t  \t\t\t  \t \t\t  \t\t  \t\t    \t \t\t \t\t   \t\t \t\t  \n",
    "        return (self.model_coefs[:-1] * points).sum(axis = 1) + self.model_coefs[-1]  \t\t   \t  \t\t\t  \t \t\t  \t\t  \t\t    \t \t\t \t\t   \t\t \t\t  \n",
    "  \t\t   \t  \t\t\t  \t \t\t  \t\t  \t\t    \t \t\t \t\t   \t\t \t\t  \n",
    "if __name__==\"__main__\":  \t\t   \t  \t\t\t  \t \t\t  \t\t  \t\t    \t \t\t \t\t   \t\t \t\t  \n",
    "    print(\"the secret clue is 'zzyzx'\")  \t\t   \t  \t\t\t  \t \t\t  \t\t  \t\t    \t \t\t \t\t   \t\t \t\t  \n"
   ]
  }
 ],
 "metadata": {
  "kernelspec": {
   "display_name": "Python 3",
   "language": "python",
   "name": "python3"
  },
  "language_info": {
   "codemirror_mode": {
    "name": "ipython",
    "version": 3
   },
   "file_extension": ".py",
   "mimetype": "text/x-python",
   "name": "python",
   "nbconvert_exporter": "python",
   "pygments_lexer": "ipython3",
   "version": "3.7.3"
  }
 },
 "nbformat": 4,
 "nbformat_minor": 2
}
