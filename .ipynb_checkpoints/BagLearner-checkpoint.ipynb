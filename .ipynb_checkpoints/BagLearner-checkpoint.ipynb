{
 "cells": [
  {
   "cell_type": "code",
   "execution_count": 1,
   "metadata": {},
   "outputs": [
    {
     "name": "stdout",
     "output_type": "stream",
     "text": [
      "the secret clue is 'zzyzx'\n"
     ]
    }
   ],
   "source": [
    "import numpy as np\n",
    "\n",
    "np.random.seed(903430342)\n",
    "\n",
    "\n",
    "class BagLearner(object):\n",
    "\n",
    "    def __init__(self, learner, kwargs, bags=20, boost=False, verbose=False):\n",
    "        self.learner = learner\n",
    "        self.kwargs = kwargs\n",
    "        self.bags = bags\n",
    "        self.learners = []\n",
    "        for _ in xrange(self.bags):\n",
    "            self.learners.append(learner(**kwargs))\n",
    "\n",
    "\n",
    "    def author(self):\n",
    "        return \"smarchienne3\"\n",
    "\n",
    "\n",
    "    def addEvidence(self, dataX, dataY):\n",
    "        \"\"\" \t\t\t  \t\t \t\t\t     \t\t\t  \t   \t\t   \t  \t\t\t  \t\n",
    "        @summary: Add training data to learner \t\t\t  \t\t \t\t\t     \t\t\t  \t   \t\t   \t  \t\t\t  \t\n",
    "        @param dataX: X values of data to add \t\t\t  \t\t \t\t\t     \t\t\t  \t   \t\t   \t  \t\t\t  \t\n",
    "        @param dataY: the Y training values \t\t\t  \t\t \t\t\t     \t\t\t  \t   \t\t   \t  \t\t\t  \t\n",
    "        \"\"\"\n",
    "        for learner in self.learners:\n",
    "            indices = np.arange(dataX.shape[0])\n",
    "            bootstrap = np.random.choice(indices, size=dataX.shape[0], replace=True)\n",
    "            Xtrain = dataX[bootstrap, :]\n",
    "            Ytrain = dataY[bootstrap]\n",
    "            learner.addEvidence(Xtrain, Ytrain)\n",
    "\n",
    "\n",
    "    def query(self, points):\n",
    "        \"\"\" \t\t\t  \t\t \t\t\t     \t\t\t  \t   \t\t   \t  \t\t\t  \t\n",
    "        @summary: Estimate a set of test points given the model we built. \t\t\t  \t\t \t\t\t     \t\t\t  \t   \t\t   \t  \t\t\t  \t\n",
    "        @param points: should be a numpy array with each row corresponding to a specific query. \t\t\t  \t\t \t\t\t     \t\t\t  \t   \t\t   \t  \t\t\t  \t\n",
    "        @returns the estimated values according to the saved model. \t\t\t  \t\t \t\t\t     \t\t\t  \t   \t\t   \t  \t\t\t  \t\n",
    "        \"\"\"\n",
    "        votes = []\n",
    "        for learner in self.learners:\n",
    "            votes.append(learner.query(points))\n",
    "        return np.vstack(votes).mean(axis=0).reshape(-1)\n",
    "\n",
    "\n",
    "if __name__ == \"__main__\":\n",
    "    print(\"the secret clue is 'zzyzx'\")"
   ]
  }
 ],
 "metadata": {
  "kernelspec": {
   "display_name": "Python 3",
   "language": "python",
   "name": "python3"
  },
  "language_info": {
   "codemirror_mode": {
    "name": "ipython",
    "version": 3
   },
   "file_extension": ".py",
   "mimetype": "text/x-python",
   "name": "python",
   "nbconvert_exporter": "python",
   "pygments_lexer": "ipython3",
   "version": "3.7.3"
  }
 },
 "nbformat": 4,
 "nbformat_minor": 2
}
